{
 "cells": [
  {
   "cell_type": "code",
   "execution_count": null,
   "metadata": {},
   "outputs": [],
   "source": [
    "###########################文件文本->json######################"
   ]
  },
  {
   "cell_type": "code",
   "execution_count": 1,
   "metadata": {},
   "outputs": [],
   "source": [
    "read_file_path = \"../fileurl.txt\"\n",
    "write_file_path =  \"../result.txt\""
   ]
  },
  {
   "cell_type": "code",
   "execution_count": 2,
   "metadata": {},
   "outputs": [
    {
     "name": "stdout",
     "output_type": "stream",
     "text": [
      "True\n",
      "True\n"
     ]
    }
   ],
   "source": [
    "#检查路径是否正确\n",
    "import os\n",
    "print(os.path.exists(read_file_path))\n",
    "print(os.path.exists(write_file_path))"
   ]
  },
  {
   "cell_type": "code",
   "execution_count": 3,
   "metadata": {},
   "outputs": [],
   "source": [
    "read_file = open(read_file_path,\"r+\")"
   ]
  },
  {
   "cell_type": "code",
   "execution_count": 4,
   "metadata": {},
   "outputs": [
    {
     "data": {
      "text/plain": [
       "_io.TextIOWrapper"
      ]
     },
     "execution_count": 4,
     "metadata": {},
     "output_type": "execute_result"
    }
   ],
   "source": [
    "type(read_file)"
   ]
  },
  {
   "cell_type": "code",
   "execution_count": 5,
   "metadata": {},
   "outputs": [],
   "source": [
    "##读取数据\n",
    "lines = []\n",
    "for line in  read_file.readlines():\n",
    "    lines.append(line)\n",
    "read_file.close()\n"
   ]
  },
  {
   "cell_type": "code",
   "execution_count": 6,
   "metadata": {},
   "outputs": [
    {
     "name": "stdout",
     "output_type": "stream",
     "text": [
      "['https://dakabg.oss-cn-beijing.aliyuncs.com/DEBUG/3C38271E80000021887021B0852BE5CA/avMeeting/15180F56E4748DE4FF433DB2B9134BFC15254?Expires=1533870127&OSSAccessKeyId=LTAIGbe3Z6CVZOFP&Signature=SXzdzdHK%2Fo%2B09SRTTB3r02cG9g8%3D', 'https://dakabg.oss-cn-beijing.aliyuncs.com/DEBUG/3C38271E80000021887021B0852BE5CA/avMeeting/AE098695FE786BE86B396F676E95B26513334?Expires=1533870128&OSSAccessKeyId=LTAIGbe3Z6CVZOFP&Signature=f%2BlYwX4cWjbd%2BtTdZnEL207soEo%3D', 'https://dakabg.oss-cn-beijing.aliyuncs.com/DEBUG/3C38271E80000021887021B0852BE5CA/avMeeting/48F027E253A17D674E7A6E1B17DD8A3886486?Expires=1533870128&OSSAccessKeyId=LTAIGbe3Z6CVZOFP&Signature=A6tM0PCMMSuXLsDWZzGZzgj32kc%3D', 'https://dakabg.oss-cn-beijing.aliyuncs.com/DEBUG/3C38271E80000021887021B0852BE5CA/avMeeting/CDCA8EED5419EFA44EF9DEFE7AF1120373862?Expires=1533870128&OSSAccessKeyId=LTAIGbe3Z6CVZOFP&Signature=tFCfUCXfyYOHkPYPEyCCX1YWT%2Fk%3D', 'https://dakabg.oss-cn-beijing.aliyuncs.com/DEBUG/3C38271E80000021887021B0852BE5CA/avMeeting/AA7DF4EF8C25518B1DCFB32C75533C4810342?Expires=1533870128&OSSAccessKeyId=LTAIGbe3Z6CVZOFP&Signature=mhsqOEejOMVlNrov%2BdNciHatyVs%3D', 'https://dakabg.oss-cn-beijing.aliyuncs.com/DEBUG/3C38271E80000021887021B0852BE5CA/avMeeting/EF02B21D0D4592FBBBAAB998F050B71A20006?Expires=1533870128&OSSAccessKeyId=LTAIGbe3Z6CVZOFP&Signature=Swu5QrkYIv0J%2FIUBgduQnjsH7uE%3D', 'https://dakabg.oss-cn-beijing.aliyuncs.com/DEBUG/3C38271E80000021887021B0852BE5CA/avMeeting/B8C2983F06708C0A272ECFA72F6F8DF437606?Expires=1533870129&OSSAccessKeyId=LTAIGbe3Z6CVZOFP&Signature=DVXs6Q5f1uEOE0PssmKl15kjrNQ%3D', 'https://dakabg.oss-cn-beijing.aliyuncs.com/DEBUG/3C38271E80000021887021B0852BE5CA/avMeeting/FEA962E7224F6884993460EEADDC92D18006?Expires=1533870129&OSSAccessKeyId=LTAIGbe3Z6CVZOFP&Signature=tqrcTegVZlyEs7OnxmSJl%2FiyyG0%3D', 'https://dakabg.oss-cn-beijing.aliyuncs.com/DEBUG/3C38271E80000021887021B0852BE5CA/avMeeting/49406A2BA4DB463445A66F25C24879C011222?Expires=1533870129&OSSAccessKeyId=LTAIGbe3Z6CVZOFP&Signature=EQ954ZoK9z%2BrNd3RUvgE2e8QJ18%3D', 'https://dakabg.oss-cn-beijing.aliyuncs.com/DEBUG/3C38271E80000021887021B0852BE5CA/avMeeting/EA5C92AE86DFF08ECEE3F3226315BC189638?Expires=1533870129&OSSAccessKeyId=LTAIGbe3Z6CVZOFP&Signature=unQTBU%2B%2BBzlbN8j5ddGPuHg0SLE%3D', 'https://dakabg.oss-cn-beijing.aliyuncs.com/DEBUG/3C38271E80000021887021B0852BE5CA/avMeeting/A6C554C22BCDA60AC97B9D7A15C0DBC86390?Expires=1533870129&OSSAccessKeyId=LTAIGbe3Z6CVZOFP&Signature=u5JuGq8XmDE61a2uwiV3D8ayn04%3D', 'https://dakabg.oss-cn-beijing.aliyuncs.com/DEBUG/3C38271E80000021887021B0852BE5CA/avMeeting/A2D6C5683DE9209501E5613F8FC2738611222?Expires=1533870130&OSSAccessKeyId=LTAIGbe3Z6CVZOFP&Signature=Q7xxJYNe%2F7Z%2FYoFbyf8qOnS3yok%3D', 'https://dakabg.oss-cn-beijing.aliyuncs.com/DEBUG/3C38271E80000021887021B0852BE5CA/avMeeting/C427D3871572CA40B7A6E0CD7F0CD5EA80854?Expires=1533870130&OSSAccessKeyId=LTAIGbe3Z6CVZOFP&Signature=kOGlz6Qm%2BcQJq0DJ%2FQzrRNLYW7U%3D', 'https://dakabg.oss-cn-beijing.aliyuncs.com/DEBUG/3C38271E80000021887021B0852BE5CA/avMeeting/5A96944021BB5BE0E8B200AE695CFE8E9606?Expires=1533870130&OSSAccessKeyId=LTAIGbe3Z6CVZOFP&Signature=DIJg2zDLitOcb8ic36O9h%2BsVMAo%3D', 'https://dakabg.oss-cn-beijing.aliyuncs.com/DEBUG/3C38271E80000021887021B0852BE5CA/avMeeting/5E6C4B6E675EC04A236BDEEE677A54989622?Expires=1533870130&OSSAccessKeyId=LTAIGbe3Z6CVZOFP&Signature=Y50f%2Fpf5l1brH5IIE8m0%2BXUzNqw%3D', 'https://dakabg.oss-cn-beijing.aliyuncs.com/DEBUG/3C38271E80000021887021B0852BE5CA/avMeeting/5D84630B28AEB0FD208512F14280536E32022?Expires=1533870130&OSSAccessKeyId=LTAIGbe3Z6CVZOFP&Signature=%2BJrD%2BL5ax4UQ%2FdSAyHaVsucd3Ms%3D', 'https://dakabg.oss-cn-beijing.aliyuncs.com/DEBUG/3C38271E80000021887021B0852BE5CA/avMeeting/41F31B8837AB5FA35AAC57AC0D6D4AF87206?Expires=1533870131&OSSAccessKeyId=LTAIGbe3Z6CVZOFP&Signature=nX4Gjr7h7p3Q%2BwMlrAwW%2F80%2BlJo%3D', 'https://dakabg.oss-cn-beijing.aliyuncs.com/DEBUG/3C38271E80000021887021B0852BE5CA/avMeeting/E6ED1AF331913E2F72609283416B8E8315142?Expires=1533870131&OSSAccessKeyId=LTAIGbe3Z6CVZOFP&Signature=U8foQqCltMB%2FcboUewBbSKv%2BvGY%3D']\n"
     ]
    }
   ],
   "source": [
    "##预处理\n",
    "result = []\n",
    "for s in lines:\n",
    "    result.append(s.strip('\\n'))\n",
    "print(result)"
   ]
  },
  {
   "cell_type": "code",
   "execution_count": 7,
   "metadata": {},
   "outputs": [],
   "source": [
    "import json"
   ]
  },
  {
   "cell_type": "code",
   "execution_count": 8,
   "metadata": {},
   "outputs": [
    {
     "data": {
      "text/plain": [
       "_io.TextIOWrapper"
      ]
     },
     "execution_count": 8,
     "metadata": {},
     "output_type": "execute_result"
    }
   ],
   "source": [
    "write_file = open(write_file_path,\"w+\")\n",
    "type(write_file)"
   ]
  },
  {
   "cell_type": "code",
   "execution_count": 9,
   "metadata": {},
   "outputs": [
    {
     "name": "stdout",
     "output_type": "stream",
     "text": [
      "[\"https://dakabg.oss-cn-beijing.aliyuncs.com/DEBUG/3C38271E80000021887021B0852BE5CA/avMeeting/15180F56E4748DE4FF433DB2B9134BFC15254?Expires=1533870127&OSSAccessKeyId=LTAIGbe3Z6CVZOFP&Signature=SXzdzdHK%2Fo%2B09SRTTB3r02cG9g8%3D\", \"https://dakabg.oss-cn-beijing.aliyuncs.com/DEBUG/3C38271E80000021887021B0852BE5CA/avMeeting/AE098695FE786BE86B396F676E95B26513334?Expires=1533870128&OSSAccessKeyId=LTAIGbe3Z6CVZOFP&Signature=f%2BlYwX4cWjbd%2BtTdZnEL207soEo%3D\", \"https://dakabg.oss-cn-beijing.aliyuncs.com/DEBUG/3C38271E80000021887021B0852BE5CA/avMeeting/48F027E253A17D674E7A6E1B17DD8A3886486?Expires=1533870128&OSSAccessKeyId=LTAIGbe3Z6CVZOFP&Signature=A6tM0PCMMSuXLsDWZzGZzgj32kc%3D\", \"https://dakabg.oss-cn-beijing.aliyuncs.com/DEBUG/3C38271E80000021887021B0852BE5CA/avMeeting/CDCA8EED5419EFA44EF9DEFE7AF1120373862?Expires=1533870128&OSSAccessKeyId=LTAIGbe3Z6CVZOFP&Signature=tFCfUCXfyYOHkPYPEyCCX1YWT%2Fk%3D\", \"https://dakabg.oss-cn-beijing.aliyuncs.com/DEBUG/3C38271E80000021887021B0852BE5CA/avMeeting/AA7DF4EF8C25518B1DCFB32C75533C4810342?Expires=1533870128&OSSAccessKeyId=LTAIGbe3Z6CVZOFP&Signature=mhsqOEejOMVlNrov%2BdNciHatyVs%3D\", \"https://dakabg.oss-cn-beijing.aliyuncs.com/DEBUG/3C38271E80000021887021B0852BE5CA/avMeeting/EF02B21D0D4592FBBBAAB998F050B71A20006?Expires=1533870128&OSSAccessKeyId=LTAIGbe3Z6CVZOFP&Signature=Swu5QrkYIv0J%2FIUBgduQnjsH7uE%3D\", \"https://dakabg.oss-cn-beijing.aliyuncs.com/DEBUG/3C38271E80000021887021B0852BE5CA/avMeeting/B8C2983F06708C0A272ECFA72F6F8DF437606?Expires=1533870129&OSSAccessKeyId=LTAIGbe3Z6CVZOFP&Signature=DVXs6Q5f1uEOE0PssmKl15kjrNQ%3D\", \"https://dakabg.oss-cn-beijing.aliyuncs.com/DEBUG/3C38271E80000021887021B0852BE5CA/avMeeting/FEA962E7224F6884993460EEADDC92D18006?Expires=1533870129&OSSAccessKeyId=LTAIGbe3Z6CVZOFP&Signature=tqrcTegVZlyEs7OnxmSJl%2FiyyG0%3D\", \"https://dakabg.oss-cn-beijing.aliyuncs.com/DEBUG/3C38271E80000021887021B0852BE5CA/avMeeting/49406A2BA4DB463445A66F25C24879C011222?Expires=1533870129&OSSAccessKeyId=LTAIGbe3Z6CVZOFP&Signature=EQ954ZoK9z%2BrNd3RUvgE2e8QJ18%3D\", \"https://dakabg.oss-cn-beijing.aliyuncs.com/DEBUG/3C38271E80000021887021B0852BE5CA/avMeeting/EA5C92AE86DFF08ECEE3F3226315BC189638?Expires=1533870129&OSSAccessKeyId=LTAIGbe3Z6CVZOFP&Signature=unQTBU%2B%2BBzlbN8j5ddGPuHg0SLE%3D\", \"https://dakabg.oss-cn-beijing.aliyuncs.com/DEBUG/3C38271E80000021887021B0852BE5CA/avMeeting/A6C554C22BCDA60AC97B9D7A15C0DBC86390?Expires=1533870129&OSSAccessKeyId=LTAIGbe3Z6CVZOFP&Signature=u5JuGq8XmDE61a2uwiV3D8ayn04%3D\", \"https://dakabg.oss-cn-beijing.aliyuncs.com/DEBUG/3C38271E80000021887021B0852BE5CA/avMeeting/A2D6C5683DE9209501E5613F8FC2738611222?Expires=1533870130&OSSAccessKeyId=LTAIGbe3Z6CVZOFP&Signature=Q7xxJYNe%2F7Z%2FYoFbyf8qOnS3yok%3D\", \"https://dakabg.oss-cn-beijing.aliyuncs.com/DEBUG/3C38271E80000021887021B0852BE5CA/avMeeting/C427D3871572CA40B7A6E0CD7F0CD5EA80854?Expires=1533870130&OSSAccessKeyId=LTAIGbe3Z6CVZOFP&Signature=kOGlz6Qm%2BcQJq0DJ%2FQzrRNLYW7U%3D\", \"https://dakabg.oss-cn-beijing.aliyuncs.com/DEBUG/3C38271E80000021887021B0852BE5CA/avMeeting/5A96944021BB5BE0E8B200AE695CFE8E9606?Expires=1533870130&OSSAccessKeyId=LTAIGbe3Z6CVZOFP&Signature=DIJg2zDLitOcb8ic36O9h%2BsVMAo%3D\", \"https://dakabg.oss-cn-beijing.aliyuncs.com/DEBUG/3C38271E80000021887021B0852BE5CA/avMeeting/5E6C4B6E675EC04A236BDEEE677A54989622?Expires=1533870130&OSSAccessKeyId=LTAIGbe3Z6CVZOFP&Signature=Y50f%2Fpf5l1brH5IIE8m0%2BXUzNqw%3D\", \"https://dakabg.oss-cn-beijing.aliyuncs.com/DEBUG/3C38271E80000021887021B0852BE5CA/avMeeting/5D84630B28AEB0FD208512F14280536E32022?Expires=1533870130&OSSAccessKeyId=LTAIGbe3Z6CVZOFP&Signature=%2BJrD%2BL5ax4UQ%2FdSAyHaVsucd3Ms%3D\", \"https://dakabg.oss-cn-beijing.aliyuncs.com/DEBUG/3C38271E80000021887021B0852BE5CA/avMeeting/41F31B8837AB5FA35AAC57AC0D6D4AF87206?Expires=1533870131&OSSAccessKeyId=LTAIGbe3Z6CVZOFP&Signature=nX4Gjr7h7p3Q%2BwMlrAwW%2F80%2BlJo%3D\", \"https://dakabg.oss-cn-beijing.aliyuncs.com/DEBUG/3C38271E80000021887021B0852BE5CA/avMeeting/E6ED1AF331913E2F72609283416B8E8315142?Expires=1533870131&OSSAccessKeyId=LTAIGbe3Z6CVZOFP&Signature=U8foQqCltMB%2FcboUewBbSKv%2BvGY%3D\"]\n"
     ]
    }
   ],
   "source": [
    "result_str = json.dumps(result)\n",
    "print(result_str)"
   ]
  },
  {
   "cell_type": "code",
   "execution_count": 10,
   "metadata": {},
   "outputs": [],
   "source": [
    "write_file.write(json.dumps(result))\n",
    "write_file.close()"
   ]
  },
  {
   "cell_type": "code",
   "execution_count": null,
   "metadata": {},
   "outputs": [],
   "source": []
  },
  {
   "cell_type": "code",
   "execution_count": null,
   "metadata": {},
   "outputs": [],
   "source": []
  },
  {
   "cell_type": "code",
   "execution_count": null,
   "metadata": {},
   "outputs": [],
   "source": []
  }
 ],
 "metadata": {
  "kernelspec": {
   "display_name": "Python 3",
   "language": "python",
   "name": "python3"
  },
  "language_info": {
   "codemirror_mode": {
    "name": "ipython",
    "version": 3
   },
   "file_extension": ".py",
   "mimetype": "text/x-python",
   "name": "python",
   "nbconvert_exporter": "python",
   "pygments_lexer": "ipython3",
   "version": "3.6.5"
  }
 },
 "nbformat": 4,
 "nbformat_minor": 2
}
