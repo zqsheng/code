{
 "cells": [
  {
   "cell_type": "code",
   "execution_count": 1,
   "metadata": {},
   "outputs": [],
   "source": [
    "path = \"C:\\\\Users\\\\admin\\\\Desktop\\\\asr\\\\result\\\\xunfei\\\\json.txt\""
   ]
  },
  {
   "cell_type": "code",
   "execution_count": 3,
   "metadata": {},
   "outputs": [],
   "source": [
    "file = open(path)\n",
    "content = file.read()\n",
    "file.close()"
   ]
  },
  {
   "cell_type": "code",
   "execution_count": 6,
   "metadata": {},
   "outputs": [],
   "source": [
    "import json\n",
    "content_jo = json.loads(content)\n",
    "result = []\n",
    "for i,jo in zip(range(len(content_jo)),content_jo):\n",
    "    sentence = {}\n",
    "    sentence[i + 1] = jo[\"onebest\"]\n",
    "    result.append(sentence)\n",
    "    "
   ]
  },
  {
   "cell_type": "code",
   "execution_count": 7,
   "metadata": {},
   "outputs": [
    {
     "name": "stdout",
     "output_type": "stream",
     "text": [
      "[{1: '嗯'}, {2: '然后这个第一个进入这个会议室的人是那个相当于是主持人，'}, {3: '然后'}, {4: '对应了他邀请的人会收到一个推送，然后推送的人点击那个'}, {5: '接送以后会碰到这个会议的，'}, {6: '也进入到同一个会议室里面，'}, {7: '然后会提示那个宋小杨加入会议室，'}, {8: '然后它默认的就显示的是对方的那个'}, {9: '食品的那个画面，然后可以去切换那个'}, {10: '当前显示，'}, {11: '然后因为那个'}, {12: '本来还有一个举手的功能，但是举手它涉及到的那个药'}, {13: '修改SDK的内容。'}, {14: '对那个'}, {15: '白马寺还完之后咱不太现实，因为它里面还涉及到那个改名啊什么的，'}, {16: '我们不能去改变，'}, {17: '所以就那个把那个更多的去掉了，因为在更多里面有一个举手，现在也只有那个就打开音频，打开视频共享，然后参与者这几个，'}, {18: '然后这个参与者的话是'}, {19: '我们自己定义的一个界面，就是他原先的那个界面，是'}, {20: '就是风格与我们不太一样。'}, {21: '嗯'}, {22: '人群中，'}, {23: '因为我把音关了，'}, {24: '两个离得太近的话有那个都凋零，'}, {25: '谁知'}, {26: '嗯'}, {27: '就是这个状态，是没有就是'}, {28: '音频，压根就不开是没有，如果他现在说通过呼叫，然后再把这个进行，这个是有，'}, {29: '所以他其实有三种状态那个眼睛，'}, {30: '一种是不开饮品，一种是'}, {31: '运行关掉和音频好。'}]\n"
     ]
    }
   ],
   "source": [
    "print(result)"
   ]
  },
  {
   "cell_type": "code",
   "execution_count": 11,
   "metadata": {},
   "outputs": [],
   "source": [
    "result_path = \"C:\\\\Users\\\\admin\\\\Desktop\\\\asr\\\\result\\\\xunfei\\\\result.txt\"\n",
    "file = open(result_path,\"w+\")\n",
    "file.write(str(result))\n",
    "file.flush()\n",
    "file.close()"
   ]
  },
  {
   "cell_type": "code",
   "execution_count": null,
   "metadata": {},
   "outputs": [],
   "source": []
  },
  {
   "cell_type": "code",
   "execution_count": null,
   "metadata": {},
   "outputs": [],
   "source": []
  }
 ],
 "metadata": {
  "kernelspec": {
   "display_name": "Python 3",
   "language": "python",
   "name": "python3"
  },
  "language_info": {
   "codemirror_mode": {
    "name": "ipython",
    "version": 3
   },
   "file_extension": ".py",
   "mimetype": "text/x-python",
   "name": "python",
   "nbconvert_exporter": "python",
   "pygments_lexer": "ipython3",
   "version": "3.6.5"
  }
 },
 "nbformat": 4,
 "nbformat_minor": 2
}
