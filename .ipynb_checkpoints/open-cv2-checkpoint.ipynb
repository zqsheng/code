{
 "cells": [
  {
   "cell_type": "code",
   "execution_count": 9,
   "metadata": {},
   "outputs": [
    {
     "name": "stdout",
     "output_type": "stream",
     "text": [
      " 驱动器 E 中的卷没有标签。\n",
      " 卷的序列号是 76FD-F3DE\n",
      "\n",
      " E:\\myworkspace\\snippet 的目录\n",
      "\n",
      "2019/01/27  16:16    <DIR>          .\n",
      "2019/01/27  16:16    <DIR>          ..\n",
      "2018/11/28  19:46               270 .gitignore\n",
      "2019/01/27  16:08    <DIR>          .ipynb_checkpoints\n",
      "2019/01/27  15:23               859 algorithm.ipynb\n",
      "2018/12/08  13:01               278 exec-shell.py\n",
      "2018/11/28  19:46    <DIR>          lang\n",
      "2018/11/28  19:46            11,357 LICENSE\n",
      "2018/11/28  19:46    <DIR>          ml\n",
      "2018/11/28  19:46    <DIR>          muzi.org.java\n",
      "2019/01/27  16:16             4,216 open-cv2.ipynb\n",
      "2018/11/28  19:46                58 README.md\n",
      "2018/12/13  14:31    <DIR>          sql\n",
      "2018/11/28  19:46    <DIR>          temporary\n",
      "2019/01/27  16:10            97,149 timg.jpg\n",
      "               7 个文件        114,187 字节\n",
      "               8 个目录 51,016,900,608 可用字节\n",
      "1620000\n"
     ]
    }
   ],
   "source": [
    "import numpy as np\n",
    "import cv2\n",
    "!dir\n",
    "image = cv2.imread('timg.jpg')\n",
    "cv2.imshow('my image',image)\n",
    "print(image.size)\n",
    "key = cv2.waitKey(0)\n",
    "if key == 27:#ESC 关闭窗口\n",
    "    cv2.destroyAllWindows()"
   ]
  },
  {
   "cell_type": "code",
   "execution_count": null,
   "metadata": {},
   "outputs": [],
   "source": []
  }
 ],
 "metadata": {
  "kernelspec": {
   "display_name": "Python 3",
   "language": "python",
   "name": "python3"
  },
  "language_info": {
   "codemirror_mode": {
    "name": "ipython",
    "version": 3
   },
   "file_extension": ".py",
   "mimetype": "text/x-python",
   "name": "python",
   "nbconvert_exporter": "python",
   "pygments_lexer": "ipython3",
   "version": "3.6.5"
  }
 },
 "nbformat": 4,
 "nbformat_minor": 2
}
