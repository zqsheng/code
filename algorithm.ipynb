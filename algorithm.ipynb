{
 "cells": [
  {
   "cell_type": "code",
   "execution_count": null,
   "metadata": {},
   "outputs": [],
   "source": [
    "#coding=utf8\n",
    "import pdb # python debug\n",
    "def parentheses(rl,m,left,right):\n",
    "    pdb.set_trace() # set breakpoint\n",
    "    if(left == 0 and left == 0):\n",
    "        rl.append(m['str'])\n",
    "    if(right > left):\n",
    "        m['str'] = m['str'] +  \")\"\n",
    "        parentheses(rl,m,left,right - 1)\n",
    "    if(left > 0):\n",
    "        m['str'] = m ['str'] + \"(\"\n",
    "        parentheses(rl,m,left - 1,right)\n",
    "resultList = []\n",
    "m = {\"str\":\"\"}\n",
    "n = 3\n",
    "left,right = n,n\n",
    "parentheses(resultList,m,left,right)\n",
    "print(resultList)"
   ]
  },
  {
   "cell_type": "code",
   "execution_count": null,
   "metadata": {},
   "outputs": [],
   "source": [
    "def combine(n,k):\n",
    "    print()\n",
    "    x = {i for i in range(1,n + 1)}\n",
    "    print(x)\n",
    "def combile_impl():\n",
    "    \n",
    "n = 4\n",
    "k = 2\n",
    "combine(n,k)"
   ]
  },
  {
   "cell_type": "code",
   "execution_count": null,
   "metadata": {},
   "outputs": [],
   "source": [
    "x = {i for i in range(10,20 + 1)}\n",
    "y = {i for i in range(15,25 + 1)}\n",
    "z = x & y #只在对Set进行操作\n",
    "print(z)"
   ]
  },
  {
   "cell_type": "code",
   "execution_count": null,
   "metadata": {},
   "outputs": [],
   "source": []
  }
 ],
 "metadata": {
  "kernelspec": {
   "display_name": "Python 3",
   "language": "python",
   "name": "python3"
  }
 },
 "nbformat": 4,
 "nbformat_minor": 2
}
